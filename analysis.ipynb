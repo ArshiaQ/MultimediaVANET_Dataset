{
  "cells": [
    {
      "cell_type": "code",
      "execution_count": null,
      "id": "73061c4c",
      "metadata": {
        "vscode": {
          "languageId": "plaintext"
        }
      },
      "outputs": [],
      "source": [
        "!pip install pandas numpy\n",
        "python simulate_data.py\n",
        "python preprocess.py\n"
      ]
    }
  ],
  "metadata": {
    "colab": {
      "provenance": []
    },
    "kernelspec": {
      "display_name": "Python 3",
      "name": "python3"
    },
    "language_info": {
      "name": "python"
    }
  },
  "nbformat": 4,
  "nbformat_minor": 5
}
