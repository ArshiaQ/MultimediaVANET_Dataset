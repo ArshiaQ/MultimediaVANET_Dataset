{
  "cells": [
    {
      "cell_type": "code",
      "source": [
        "# Example: if your repo has main.py, run it:\n",
        "!pip install pandas numpy\n",
        "!python simulate_data.py\n",
        "!python preprocess.py\n"
      ],
      "metadata": {
        "id": "C4IuDF2brJ0W",
        "outputId": "834cc25c-f408-4049-fc5f-56c31439eb89",
        "colab": {
          "base_uri": "https://localhost:8080/"
        }
      },
      "id": "C4IuDF2brJ0W",
      "execution_count": 3,
      "outputs": [
        {
          "output_type": "stream",
          "name": "stdout",
          "text": [
            "Requirement already satisfied: pandas in /usr/local/lib/python3.11/dist-packages (2.2.2)\n",
            "Requirement already satisfied: numpy in /usr/local/lib/python3.11/dist-packages (2.0.2)\n",
            "Requirement already satisfied: python-dateutil>=2.8.2 in /usr/local/lib/python3.11/dist-packages (from pandas) (2.9.0.post0)\n",
            "Requirement already satisfied: pytz>=2020.1 in /usr/local/lib/python3.11/dist-packages (from pandas) (2025.2)\n",
            "Requirement already satisfied: tzdata>=2022.7 in /usr/local/lib/python3.11/dist-packages (from pandas) (2025.2)\n",
            "Requirement already satisfied: six>=1.5 in /usr/local/lib/python3.11/dist-packages (from python-dateutil>=2.8.2->pandas) (1.17.0)\n",
            "python3: can't open file '/content/simulate_data.py': [Errno 2] No such file or directory\n",
            "python3: can't open file '/content/preprocess.py': [Errno 2] No such file or directory\n"
          ]
        }
      ]
    }
  ],
  "metadata": {
    "language_info": {
      "name": "python"
    },
    "colab": {
      "provenance": []
    },
    "kernelspec": {
      "name": "python3",
      "display_name": "Python 3"
    }
  },
  "nbformat": 4,
  "nbformat_minor": 5
}