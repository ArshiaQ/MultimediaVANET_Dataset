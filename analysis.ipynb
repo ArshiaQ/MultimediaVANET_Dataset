{
 "cells": [
  {
   "cell_type": "code",
   "execution_count": null,
   "id": "9bb39b3c",
   "metadata": {
    "vscode": {
     "languageId": "plaintext"
    }
   },
   "outputs": [],
   "source": [
    "# My MultimediaVANET analysis\n",
    "print(\"Hello from Colab!\")\n"
   ]
  }
 ],
 "metadata": {
  "language_info": {
   "name": "python"
  }
 },
 "nbformat": 4,
 "nbformat_minor": 5
}
