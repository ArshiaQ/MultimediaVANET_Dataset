{
  "cells": [
    {
      "cell_type": "code",
      "execution_count": null,
      "id": "33d09336",
      "metadata": {
        "vscode": {
          "languageId": "plaintext"
        }
      },
      "outputs": [],
      "source": [
        "# Example: if your repo has main.py, run it:\n",
        "!pip install pandas numpy\n",
        "python simulate_data.py\n",
        "python preprocess.py\n"
      ]
    }
  ],
  "metadata": {
    "colab": {
      "provenance": []
    },
    "kernelspec": {
      "display_name": "Python 3",
      "name": "python3"
    },
    "language_info": {
      "name": "python"
    }
  },
  "nbformat": 4,
  "nbformat_minor": 5
}
